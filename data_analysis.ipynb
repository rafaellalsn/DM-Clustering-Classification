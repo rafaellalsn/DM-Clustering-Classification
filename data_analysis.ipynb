{
 "cells": [
  {
   "cell_type": "markdown",
   "metadata": {},
   "source": [
    "## RELATÓRIO ESTATÍSTICO - MINERAÇĀO DE DADOS 2017.1\n",
    "\n",
    "Estudo da base de dados, dos atributos bem como os tratamentos feitos nas colunas sāo apresentados nesse primeiro momento. É dedicada uma seçāo para vizualiçāo dos dados bem como os comportamento destes. Logo em seguida realizamos as eliminações e os tratamentos nas colunas escolhidas.\n",
    "\n",
    "Na segunda parte, utilizamos classificadores e técnicas de avaliaçāo para medir a performance da classificaçāo dos dados utilizando SVM, Rede Neural MLP e Random Forests. Depois aplicamos técnicas de reduçāo de dimensāo e efetuamos mais uma execuçāo dos classificadores para analisar o desempenho na nova base."
   ]
  },
  {
   "cell_type": "code",
   "execution_count": 1,
   "metadata": {
    "collapsed": true
   },
   "outputs": [],
   "source": [
    "# IMPORT BASICOS INICIAIS\n",
    "import numpy as np\n",
    "import pandas as pd\n",
    "import seaborn as sns\n",
    "import matplotlib.pyplot as plt\n",
    "%matplotlib inline\n",
    "\n",
    "from sklearn.model_selection import train_test_split\n",
    "from sklearn.model_selection import cross_val_score\n",
    "\n",
    "from sklearn.metrics import confusion_matrix\n",
    "from sklearn.metrics import classification_report"
   ]
  },
  {
   "cell_type": "code",
   "execution_count": 2,
   "metadata": {
    "scrolled": true
   },
   "outputs": [
    {
     "data": {
      "text/html": [
       "<div>\n",
       "<table border=\"1\" class=\"dataframe\">\n",
       "  <thead>\n",
       "    <tr style=\"text-align: right;\">\n",
       "      <th></th>\n",
       "      <th>PESSOA_CD</th>\n",
       "      <th>DRR</th>\n",
       "      <th>MICRO_REGIAO</th>\n",
       "      <th>REGIAO_DESENVOLVIMENTO</th>\n",
       "      <th>SEGMENTO_ECONOMICO_CD</th>\n",
       "      <th>CEP1</th>\n",
       "      <th>CEP2</th>\n",
       "      <th>CEP3</th>\n",
       "      <th>CEP4</th>\n",
       "      <th>CNAE_P1</th>\n",
       "      <th>...</th>\n",
       "      <th>PADRAO_A1</th>\n",
       "      <th>PADRAO_A2</th>\n",
       "      <th>PADRAO_A3</th>\n",
       "      <th>PADRAO_A4</th>\n",
       "      <th>PADRAO_A5</th>\n",
       "      <th>ARREC_ULTIMOS_12M</th>\n",
       "      <th>ARREC_ULTIMOS_6M</th>\n",
       "      <th>VREF</th>\n",
       "      <th>MDB</th>\n",
       "      <th>ALVO_FINAL</th>\n",
       "    </tr>\n",
       "  </thead>\n",
       "  <tbody>\n",
       "    <tr>\n",
       "      <th>0</th>\n",
       "      <td>1740401</td>\n",
       "      <td>I</td>\n",
       "      <td>RECIFE</td>\n",
       "      <td>REGIAO METROPOLITANA DO RECIFE</td>\n",
       "      <td>9</td>\n",
       "      <td>5</td>\n",
       "      <td>50</td>\n",
       "      <td>500</td>\n",
       "      <td>5002</td>\n",
       "      <td>47</td>\n",
       "      <td>...</td>\n",
       "      <td>0</td>\n",
       "      <td>0</td>\n",
       "      <td>0</td>\n",
       "      <td>0</td>\n",
       "      <td>0</td>\n",
       "      <td>A</td>\n",
       "      <td>A</td>\n",
       "      <td>0</td>\n",
       "      <td>N</td>\n",
       "      <td>0</td>\n",
       "    </tr>\n",
       "    <tr>\n",
       "      <th>1</th>\n",
       "      <td>1740402</td>\n",
       "      <td>I</td>\n",
       "      <td>RECIFE</td>\n",
       "      <td>REGIAO METROPOLITANA DO RECIFE</td>\n",
       "      <td>7</td>\n",
       "      <td>5</td>\n",
       "      <td>52</td>\n",
       "      <td>520</td>\n",
       "      <td>5205</td>\n",
       "      <td>31</td>\n",
       "      <td>...</td>\n",
       "      <td>0</td>\n",
       "      <td>0</td>\n",
       "      <td>0</td>\n",
       "      <td>0</td>\n",
       "      <td>0</td>\n",
       "      <td>A</td>\n",
       "      <td>A</td>\n",
       "      <td>0</td>\n",
       "      <td>N</td>\n",
       "      <td>0</td>\n",
       "    </tr>\n",
       "    <tr>\n",
       "      <th>2</th>\n",
       "      <td>1740403</td>\n",
       "      <td>I</td>\n",
       "      <td>RECIFE</td>\n",
       "      <td>REGIAO METROPOLITANA DO RECIFE</td>\n",
       "      <td>9</td>\n",
       "      <td>5</td>\n",
       "      <td>50</td>\n",
       "      <td>506</td>\n",
       "      <td>5067</td>\n",
       "      <td>47</td>\n",
       "      <td>...</td>\n",
       "      <td>0</td>\n",
       "      <td>0</td>\n",
       "      <td>0</td>\n",
       "      <td>0</td>\n",
       "      <td>0</td>\n",
       "      <td>A</td>\n",
       "      <td>A</td>\n",
       "      <td>0</td>\n",
       "      <td>N</td>\n",
       "      <td>0</td>\n",
       "    </tr>\n",
       "    <tr>\n",
       "      <th>3</th>\n",
       "      <td>1740407</td>\n",
       "      <td>I</td>\n",
       "      <td>RECIFE</td>\n",
       "      <td>REGIAO METROPOLITANA DO RECIFE</td>\n",
       "      <td>7</td>\n",
       "      <td>5</td>\n",
       "      <td>50</td>\n",
       "      <td>507</td>\n",
       "      <td>5072</td>\n",
       "      <td>17</td>\n",
       "      <td>...</td>\n",
       "      <td>0</td>\n",
       "      <td>0</td>\n",
       "      <td>0</td>\n",
       "      <td>0</td>\n",
       "      <td>0</td>\n",
       "      <td>A</td>\n",
       "      <td>A</td>\n",
       "      <td>0</td>\n",
       "      <td>N</td>\n",
       "      <td>0</td>\n",
       "    </tr>\n",
       "    <tr>\n",
       "      <th>4</th>\n",
       "      <td>1740408</td>\n",
       "      <td>I</td>\n",
       "      <td>RECIFE</td>\n",
       "      <td>REGIAO METROPOLITANA DO RECIFE</td>\n",
       "      <td>17</td>\n",
       "      <td>5</td>\n",
       "      <td>50</td>\n",
       "      <td>501</td>\n",
       "      <td>5010</td>\n",
       "      <td>56</td>\n",
       "      <td>...</td>\n",
       "      <td>0</td>\n",
       "      <td>0</td>\n",
       "      <td>0</td>\n",
       "      <td>0</td>\n",
       "      <td>0</td>\n",
       "      <td>A</td>\n",
       "      <td>A</td>\n",
       "      <td>0</td>\n",
       "      <td>N</td>\n",
       "      <td>0</td>\n",
       "    </tr>\n",
       "  </tbody>\n",
       "</table>\n",
       "<p>5 rows × 47 columns</p>\n",
       "</div>"
      ],
      "text/plain": [
       "   PESSOA_CD DRR MICRO_REGIAO          REGIAO_DESENVOLVIMENTO  \\\n",
       "0    1740401   I       RECIFE  REGIAO METROPOLITANA DO RECIFE   \n",
       "1    1740402   I       RECIFE  REGIAO METROPOLITANA DO RECIFE   \n",
       "2    1740403   I       RECIFE  REGIAO METROPOLITANA DO RECIFE   \n",
       "3    1740407   I       RECIFE  REGIAO METROPOLITANA DO RECIFE   \n",
       "4    1740408   I       RECIFE  REGIAO METROPOLITANA DO RECIFE   \n",
       "\n",
       "   SEGMENTO_ECONOMICO_CD  CEP1  CEP2  CEP3  CEP4  CNAE_P1     ...      \\\n",
       "0                      9     5    50   500  5002       47     ...       \n",
       "1                      7     5    52   520  5205       31     ...       \n",
       "2                      9     5    50   506  5067       47     ...       \n",
       "3                      7     5    50   507  5072       17     ...       \n",
       "4                     17     5    50   501  5010       56     ...       \n",
       "\n",
       "   PADRAO_A1  PADRAO_A2  PADRAO_A3  PADRAO_A4  PADRAO_A5  ARREC_ULTIMOS_12M  \\\n",
       "0          0          0          0          0          0                  A   \n",
       "1          0          0          0          0          0                  A   \n",
       "2          0          0          0          0          0                  A   \n",
       "3          0          0          0          0          0                  A   \n",
       "4          0          0          0          0          0                  A   \n",
       "\n",
       "   ARREC_ULTIMOS_6M  VREF  MDB  ALVO_FINAL  \n",
       "0                 A     0    N           0  \n",
       "1                 A     0    N           0  \n",
       "2                 A     0    N           0  \n",
       "3                 A     0    N           0  \n",
       "4                 A     0    N           0  \n",
       "\n",
       "[5 rows x 47 columns]"
      ]
     },
     "execution_count": 2,
     "metadata": {},
     "output_type": "execute_result"
    }
   ],
   "source": [
    "#LEITURA DA BASE EM SUA COMPLETUDE\n",
    "df = pd.read_csv('data/BASE_DM_TARGET.txt', sep='\t')\n",
    "df.head()"
   ]
  },
  {
   "cell_type": "code",
   "execution_count": 3,
   "metadata": {},
   "outputs": [
    {
     "data": {
      "text/plain": [
       "<matplotlib.legend.Legend at 0x113c45190>"
      ]
     },
     "execution_count": 3,
     "metadata": {},
     "output_type": "execute_result"
    },
    {
     "data": {
      "image/png": "[encoded data removed]",
      "text/plain": [
       "<matplotlib.figure.Figure at 0x113c50a90>"
      ]
     },
     "metadata": {},
     "output_type": "display_data"
    }
   ],
   "source": [
    "plt.figure(figsize=(12,5))\n",
    "sns.countplot(x='REGIAO_DESENVOLVIMENTO', hue='SEGMENTO_ECONOMICO_CD', data=df)\n",
    "plt.title('DISTRIBUICAO DOS SEGMENTO ECONOMICO POR REGIAO DE DESENVOLVIMENTO')\n",
    "plt.xticks(rotation=90)\n",
    "plt.legend(bbox_to_anchor=(1.1, 1))"
   ]
  },
  {
   "cell_type": "code",
   "execution_count": 4,
   "metadata": {},
   "outputs": [
    {
     "data": {
      "text/plain": [
       "<matplotlib.legend.Legend at 0x10ed5de50>"
      ]
     },
     "execution_count": 4,
     "metadata": {},
     "output_type": "execute_result"
    },
    {
     "data": {
      "image/png": "[encoded data removed]",
      "text/plain": [
       "<matplotlib.figure.Figure at 0x10d4f0e10>"
      ]
     },
     "metadata": {},
     "output_type": "display_data"
    }
   ],
   "source": [
    "plt.figure(figsize=(12,5))\n",
    "sns.countplot(x='REGIAO_DESENVOLVIMENTO', hue='MDB', data=df)\n",
    "plt.title('DISTRIBUICAO DO MDB POR REGIAO DE DESENVOLVIMENTO')\n",
    "plt.xticks(rotation=90)\n",
    "plt.legend(bbox_to_anchor=(1.1, 1))"
   ]
  },
  {
   "cell_type": "code",
   "execution_count": 5,
   "metadata": {},
   "outputs": [
    {
     "data": {
      "text/plain": [
       "<matplotlib.legend.Legend at 0x10daa80d0>"
      ]
     },
     "execution_count": 5,
     "metadata": {},
     "output_type": "execute_result"
    },
    {
     "data": {
      "image/png": "[encoded data removed]",
      "text/plain": [
       "<matplotlib.figure.Figure at 0x10da8e810>"
      ]
     },
     "metadata": {},
     "output_type": "display_data"
    }
   ],
   "source": [
    "plt.figure(figsize=(12,5))\n",
    "sns.countplot(x='REGIAO_DESENVOLVIMENTO', hue='ARREC_ULTIMOS_6M', data=df)\n",
    "plt.title('DISTRIBUICAO DA ARRECADACAO NOS ULTIMOS 6M POR REGIAO DE DESENVOLVIMENTO')\n",
    "plt.xticks(rotation=90)\n",
    "plt.legend(bbox_to_anchor=(1.1, 1))"
   ]
  },
  {
   "cell_type": "code",
   "execution_count": 6,
   "metadata": {},
   "outputs": [
    {
     "data": {
      "text/plain": [
       "<matplotlib.legend.Legend at 0x1107c5990>"
      ]
     },
     "execution_count": 6,
     "metadata": {},
     "output_type": "execute_result"
    },
    {
     "data": {
      "image/png": "[encoded data removed]",
      "text/plain": [
       "<matplotlib.figure.Figure at 0x106836b50>"
      ]
     },
     "metadata": {},
     "output_type": "display_data"
    }
   ],
   "source": [
    "plt.figure(figsize=(12,5))\n",
    "sns.countplot(x='REGIAO_DESENVOLVIMENTO', hue='ARREC_ULTIMOS_12M', data=df)\n",
    "plt.title('DISTRIBUICAO DA ARRECADACAO NOS ULTIMOS 12M POR REGIAO DE DESENVOLVIMENTO')\n",
    "plt.xticks(rotation=90)\n",
    "plt.legend(bbox_to_anchor=(1.1, 1))"
   ]
  },
  {
   "cell_type": "code",
   "execution_count": 7,
   "metadata": {},
   "outputs": [
    {
     "data": {
      "text/plain": [
       "Index([u'PESSOA_CD', u'DRR', u'MICRO_REGIAO', u'REGIAO_DESENVOLVIMENTO',\n",
       "       u'SEGMENTO_ECONOMICO_CD', u'CEP1', u'CEP2', u'CEP3', u'CEP4',\n",
       "       u'CNAE_P1', u'CNAE_P2', u'CNAE_P3', u'CNAE_P4', u'CNAE_S11',\n",
       "       u'CNAE_S12', u'CNAE_S13', u'CNAE_S14', u'CNAE_S21', u'CNAE_S22',\n",
       "       u'CNAE_S23', u'CNAE_S24', u'CNAE_S31', u'CNAE_S32', u'CNAE_S33',\n",
       "       u'CNAE_S34', u'CNAE_S41', u'CNAE_S42', u'CNAE_S43', u'CNAE_S44',\n",
       "       u'CNAE_S51', u'CNAE_S53', u'CNAE_S52', u'CNAE_S54',\n",
       "       u'NATUREZA_JURIDICA_CD', u'CONTADOR_PESSOA_CD', u'CONTADOR_UF',\n",
       "       u'REATIVADO', u'PADRAO_A1', u'PADRAO_A2', u'PADRAO_A3', u'PADRAO_A4',\n",
       "       u'PADRAO_A5', u'ARREC_ULTIMOS_12M', u'ARREC_ULTIMOS_6M', u'VREF',\n",
       "       u'MDB', u'ALVO_FINAL'],\n",
       "      dtype='object')"
      ]
     },
     "execution_count": 7,
     "metadata": {},
     "output_type": "execute_result"
    }
   ],
   "source": [
    "df.columns"
   ]
  },
  {
   "cell_type": "markdown",
   "metadata": {},
   "source": [
    "## COLUNA: SEGMENTO ECONOMICO"
   ]
  },
  {
   "cell_type": "code",
   "execution_count": 8,
   "metadata": {},
   "outputs": [
    {
     "data": {
      "text/plain": [
       "array([  9.,   7.,  17.,  12.,  13.,  18.,   2.,   1.,   8.,  10.,   3.,\n",
       "         5.,  11.,  15.,   4.,  14.,  nan,  16.,   6.])"
      ]
     },
     "execution_count": 8,
     "metadata": {},
     "output_type": "execute_result"
    }
   ],
   "source": [
    "# SEGMENTO_ECONOMICO_CD == -1 SERAO TRATADOS COMO NAO EXISTENTES\n",
    "df['SEGMENTO_ECONOMICO_CD'] = df['SEGMENTO_ECONOMICO_CD'].replace(-1, np.nan)\n",
    "df['SEGMENTO_ECONOMICO_CD'].unique()"
   ]
  },
  {
   "cell_type": "code",
   "execution_count": 9,
   "metadata": {},
   "outputs": [
    {
     "data": {
      "text/plain": [
       "<matplotlib.axes._subplots.AxesSubplot at 0x10d4bd3d0>"
      ]
     },
     "execution_count": 9,
     "metadata": {},
     "output_type": "execute_result"
    },
    {
     "data": {
      "image/png": "[encoded data removed]",
      "text/plain": [
       "<matplotlib.figure.Figure at 0x106982850>"
      ]
     },
     "metadata": {},
     "output_type": "display_data"
    }
   ],
   "source": [
    "plt.figure(figsize=(12,5))\n",
    "sns.countplot(x='SEGMENTO_ECONOMICO_CD', hue='ALVO_FINAL', data=df)"
   ]
  },
  {
   "cell_type": "markdown",
   "metadata": {},
   "source": [
    "## COLUNA: CEP"
   ]
  },
  {
   "cell_type": "code",
   "execution_count": 10,
   "metadata": {},
   "outputs": [
    {
     "data": {
      "text/plain": [
       "0"
      ]
     },
     "execution_count": 10,
     "metadata": {},
     "output_type": "execute_result"
    }
   ],
   "source": [
    "# CEP == 0 SERAO TRATADOS COMO NAO EXISTENTES\n",
    "df['CEP4'] = df['CEP4'].replace(0, np.nan)\n",
    "sum(df['CEP4'] == 0)"
   ]
  },
  {
   "cell_type": "markdown",
   "metadata": {},
   "source": [
    "## COLUNA: CNAE_P4"
   ]
  },
  {
   "cell_type": "code",
   "execution_count": 11,
   "metadata": {},
   "outputs": [
    {
     "name": "stdout",
     "output_type": "stream",
     "text": [
      "TOTAL DE INSTANCIAS: 662942\n",
      "VALORES UNICOS: 620\n"
     ]
    }
   ],
   "source": [
    "# COLUNA: CNAE_P4\n",
    "# TOTAL NUMERO DE INSTANCIAS\n",
    "print('TOTAL DE INSTANCIAS: {}'.format(len(df['CNAE_P4'])))\n",
    "\n",
    "# NUMERO DE VALORES UNICOS\n",
    "print('VALORES UNICOS: {}'.format(df['CNAE_P4'].nunique()))\n",
    "\n",
    "# 620 COLUNAS CATEGORICAS ? -> FAZER ANALISE POSTERIOR DA RELEVANCIA DESSA COLUNA"
   ]
  },
  {
   "cell_type": "markdown",
   "metadata": {},
   "source": [
    "## COLUNA: NATUREZA_JURIDICA_CD"
   ]
  },
  {
   "cell_type": "code",
   "execution_count": 12,
   "metadata": {},
   "outputs": [
    {
     "name": "stdout",
     "output_type": "stream",
     "text": [
      "TOTAL DE INSTANCIAS: 662942\n",
      "VALORES UNICOS: 16\n"
     ]
    },
    {
     "data": {
      "text/plain": [
       "array([23, 33, 28, 29, 24, 67, 37, 36, 26, 25, 34, 35, 27, 44, 38, 39])"
      ]
     },
     "execution_count": 12,
     "metadata": {},
     "output_type": "execute_result"
    }
   ],
   "source": [
    "# COLUNA: NATUREZA_JURIDICA_CD\n",
    "# TOTAL NUMERO DE INSTANCIAS\n",
    "print('TOTAL DE INSTANCIAS: {}'.format(len(df['NATUREZA_JURIDICA_CD'])))\n",
    "\n",
    "# NUMERO DE VALORES UNICOS\n",
    "print('VALORES UNICOS: {}'.format(df['NATUREZA_JURIDICA_CD'].nunique()))\n",
    "\n",
    "df['NATUREZA_JURIDICA_CD'].unique()"
   ]
  },
  {
   "cell_type": "code",
   "execution_count": 13,
   "metadata": {},
   "outputs": [
    {
     "data": {
      "text/plain": [
       "<matplotlib.axes._subplots.AxesSubplot at 0x10682a110>"
      ]
     },
     "execution_count": 13,
     "metadata": {},
     "output_type": "execute_result"
    },
    {
     "data": {
      "image/png": "[encoded data removed]",
      "text/plain": [
       "<matplotlib.figure.Figure at 0x10da8e890>"
      ]
     },
     "metadata": {},
     "output_type": "display_data"
    }
   ],
   "source": [
    "plt.figure(figsize=(12,5))\n",
    "sns.countplot(x='NATUREZA_JURIDICA_CD', hue='ALVO_FINAL', data=df)"
   ]
  },
  {
   "cell_type": "markdown",
   "metadata": {},
   "source": [
    "## COLUNA: CONTADOR_PESSOA_CD"
   ]
  },
  {
   "cell_type": "code",
   "execution_count": 14,
   "metadata": {},
   "outputs": [
    {
     "name": "stdout",
     "output_type": "stream",
     "text": [
      "TOTAL DE INSTANCIAS: 662942\n",
      "VALORES UNICOS: 7842\n",
      "INSTANCIAS NULAS: 451899\n",
      "INSTANCIAS NULAS APOS SUBSTITUICAOS: 0\n"
     ]
    }
   ],
   "source": [
    "# COLUNA: CONTADOR_PESSOA_CD\n",
    "# TOTAL NUMERO DE INSTANCIAS\n",
    "print('TOTAL DE INSTANCIAS: {}'.format(len(df['CONTADOR_PESSOA_CD'])))\n",
    "\n",
    "# NUMERO DE VALORES UNICOS\n",
    "print('VALORES UNICOS: {}'.format(df['CONTADOR_PESSOA_CD'].nunique()))\n",
    "\n",
    "df['CONTADOR_PESSOA_CD'].unique()\n",
    "\n",
    "print('INSTANCIAS NULAS: {}'.format(sum(df['CONTADOR_PESSOA_CD'] == 0)))\n",
    "\n",
    "df['CONTADOR_PESSOA_CD'] = df['CONTADOR_PESSOA_CD'].replace(0, np.nan)\n",
    "print('INSTANCIAS NULAS APOS SUBSTITUICAOS: {}'.format(sum(df['CONTADOR_PESSOA_CD'] == 0)))"
   ]
  },
  {
   "cell_type": "markdown",
   "metadata": {},
   "source": [
    "## COLUNA: REATIVADO"
   ]
  },
  {
   "cell_type": "code",
   "execution_count": 15,
   "metadata": {},
   "outputs": [
    {
     "name": "stdout",
     "output_type": "stream",
     "text": [
      "TOTAL DE INSTANCIAS: 662942\n",
      "VALORES UNICOS: 2\n"
     ]
    },
    {
     "data": {
      "text/plain": [
       "array([1, 0])"
      ]
     },
     "execution_count": 15,
     "metadata": {},
     "output_type": "execute_result"
    }
   ],
   "source": [
    "# COLUNA: CONTADOR_PESSOA_CD\n",
    "# TOTAL NUMERO DE INSTANCIAS\n",
    "print('TOTAL DE INSTANCIAS: {}'.format(len(df['REATIVADO'])))\n",
    "\n",
    "# NUMERO DE VALORES UNICOS\n",
    "print('VALORES UNICOS: {}'.format(df['REATIVADO'].nunique()))\n",
    "\n",
    "df['REATIVADO'].unique()"
   ]
  },
  {
   "cell_type": "code",
   "execution_count": 16,
   "metadata": {},
   "outputs": [
    {
     "data": {
      "text/plain": [
       "<matplotlib.axes._subplots.AxesSubplot at 0x10ccbfc50>"
      ]
     },
     "execution_count": 16,
     "metadata": {},
     "output_type": "execute_result"
    },
    {
     "data": {
      "image/png": "[encoded data removed]",
      "text/plain": [
       "<matplotlib.figure.Figure at 0x1106dc050>"
      ]
     },
     "metadata": {},
     "output_type": "display_data"
    }
   ],
   "source": [
    "plt.figure(figsize=(12,5))\n",
    "sns.countplot(x='REATIVADO', hue='ALVO_FINAL', data=df)"
   ]
  },
  {
   "cell_type": "markdown",
   "metadata": {},
   "source": [
    "## COLUNAS: PADRAO_A* - (1 -5)"
   ]
  },
  {
   "cell_type": "code",
   "execution_count": 17,
   "metadata": {},
   "outputs": [
    {
     "data": {
      "text/html": [
       "<div>\n",
       "<table border=\"1\" class=\"dataframe\">\n",
       "  <thead>\n",
       "    <tr style=\"text-align: right;\">\n",
       "      <th></th>\n",
       "      <th>PADRAO_A1</th>\n",
       "      <th>PADRAO_A2</th>\n",
       "      <th>PADRAO_A3</th>\n",
       "      <th>PADRAO_A4</th>\n",
       "      <th>PADRAO_A5</th>\n",
       "    </tr>\n",
       "  </thead>\n",
       "  <tbody>\n",
       "    <tr>\n",
       "      <th>0</th>\n",
       "      <td>0</td>\n",
       "      <td>0</td>\n",
       "      <td>0</td>\n",
       "      <td>0</td>\n",
       "      <td>0</td>\n",
       "    </tr>\n",
       "    <tr>\n",
       "      <th>1</th>\n",
       "      <td>0</td>\n",
       "      <td>0</td>\n",
       "      <td>0</td>\n",
       "      <td>0</td>\n",
       "      <td>0</td>\n",
       "    </tr>\n",
       "    <tr>\n",
       "      <th>2</th>\n",
       "      <td>0</td>\n",
       "      <td>0</td>\n",
       "      <td>0</td>\n",
       "      <td>0</td>\n",
       "      <td>0</td>\n",
       "    </tr>\n",
       "    <tr>\n",
       "      <th>3</th>\n",
       "      <td>0</td>\n",
       "      <td>0</td>\n",
       "      <td>0</td>\n",
       "      <td>0</td>\n",
       "      <td>0</td>\n",
       "    </tr>\n",
       "    <tr>\n",
       "      <th>4</th>\n",
       "      <td>0</td>\n",
       "      <td>0</td>\n",
       "      <td>0</td>\n",
       "      <td>0</td>\n",
       "      <td>0</td>\n",
       "    </tr>\n",
       "  </tbody>\n",
       "</table>\n",
       "</div>"
      ],
      "text/plain": [
       "   PADRAO_A1  PADRAO_A2  PADRAO_A3  PADRAO_A4  PADRAO_A5\n",
       "0          0          0          0          0          0\n",
       "1          0          0          0          0          0\n",
       "2          0          0          0          0          0\n",
       "3          0          0          0          0          0\n",
       "4          0          0          0          0          0"
      ]
     },
     "execution_count": 17,
     "metadata": {},
     "output_type": "execute_result"
    }
   ],
   "source": [
    "patterns = ['PADRAO_A1', 'PADRAO_A2', 'PADRAO_A3', 'PADRAO_A4', 'PADRAO_A5']\n",
    "df[patterns].head()"
   ]
  },
  {
   "cell_type": "code",
   "execution_count": 18,
   "metadata": {},
   "outputs": [
    {
     "name": "stdout",
     "output_type": "stream",
     "text": [
      "TOTAL DE INSTANCIAS: 662942\n",
      "INSTANCIAS NULAS: 532298\n",
      "TOTAL VALORES UNICOS PADRAO_A1: 79\n",
      "[           0 111111111111 111111110000 111111111110 111111100000\n",
      " 111110000000 111100000000 110000000000 100000000000 111111000000\n",
      " 111111111000 111111111100 111000000000         1111            1\n",
      "          111           11       111111        11111      1111111\n",
      "           10          110          100         1110         1000\n",
      "         1100     11111111        11110        11100        11000\n",
      "        10000    111111111       110000       111100       111000\n",
      "       111110   1111111111      1111110       100000      1111100\n",
      "      1100000      1110000      1000000      1111000     11111100\n",
      "  11111111111     11110000     11111110     11000000     11111000\n",
      "     11100000     10000000   1111111100    111110000    111000000\n",
      "    111100000    110000000    111111110    111111000    111111100\n",
      "    100000000   1111000000   1111100000   1100000000   1111111110\n",
      "   1111110000   1111111000   1110000000   1000000000  11111110000\n",
      "  11111111100  11000000000  11111111000  11111100000  11111111110\n",
      "  11111000000  11100000000  11110000000  10000000000]\n",
      "TOTAL DE INSTANCIAS: 662942\n",
      "INSTANCIAS NULAS: 496583\n",
      "TOTAL VALORES UNICOS PADRAO_A2: 79\n",
      "[           0 111111111111 111111111100 111000000000 111110000000\n",
      " 111111110000 111111000000 111111100000 111100000000 111111111110\n",
      " 100000000000 110000000000 111111111000            1           11\n",
      "           10          111          110          100         1111\n",
      "         1100         1110         1000        11111        11110\n",
      "        11000        11100        10000     11111111       111111\n",
      "       111110       110000       111100       100000       111000\n",
      "      1111111      1111100      1100000      1111000      1111110\n",
      "      1110000      1000000     11111000     11000000     11111110\n",
      "     11110000     11111100     11100000     10000000    111111111\n",
      "    111110000    111100000    110000000    111111000    111000000\n",
      "    100000000    111111100    111111110   1111111111   1111111000\n",
      "   1100000000   1111000000   1111111110   1111111100   1110000000\n",
      "   1111110000   1111100000   1000000000  11111111111  11111111000\n",
      "  11111100000  11111111110  11110000000  11111000000  11000000000\n",
      "  11100000000  11111110000  11111111100  10000000000]\n",
      "TOTAL DE INSTANCIAS: 662942\n",
      "INSTANCIAS NULAS: 464692\n",
      "TOTAL VALORES UNICOS PADRAO_A3: 79\n",
      "[           0 111111111111 111111100000 100000000000 111111111100\n",
      " 111111000000 111100000000 110000000000 111110000000 111000000000\n",
      " 111111110000 111111111110 111111111000            1           11\n",
      "           10          111          110          100         1111\n",
      "         1100         1110         1000        11111        11000\n",
      "        11110        11100       111111        10000       111110\n",
      "       111000       110000       111100       100000      1111111\n",
      "      1100000      1111100      1111110      1111000      1110000\n",
      "      1000000     11111111     11000000     11111100     11111110\n",
      "     11110000     10000000     11100000     11111000    111111111\n",
      "    111111110    110000000    111000000    111110000    111111000\n",
      "    111111100    111100000    100000000   1111111111   1100000000\n",
      "   1111111110   1110000000   1111100000   1111111000   1111000000\n",
      "   1111110000   1111111100   1000000000  11111111111  11111111000\n",
      "  11111111110  11111111100  11111100000  11111000000  11000000000\n",
      "  11110000000  11100000000  11111110000  10000000000]\n",
      "TOTAL DE INSTANCIAS: 662942\n",
      "INSTANCIAS NULAS: 432565\n",
      "TOTAL VALORES UNICOS PADRAO_A4: 79\n",
      "[           0 111111111111 111111100000 110000000000 111111111000\n",
      " 111111111100 111111000000 111000000000 100000000000 111111111110\n",
      " 111110000000 111111110000 111100000000            1          111\n",
      "           11           10          110          100         1111\n",
      "         1110         1100         1000        11111        11110\n",
      "        11000        11100        10000       111111       111000\n",
      "       111100       111110       110000       100000     11111111\n",
      "      1111111      1110000      1111110      1111000      1100000\n",
      "      1111100      1000000  11111111111     11100000     11110000\n",
      "     11111000     11111100     11111110     11000000     10000000\n",
      "    111111111   1111111111    111111110    111111100    111000000\n",
      "    110000000    100000000    111111000    111100000    111110000\n",
      "   1111100000   1110000000   1111000000   1100000000   1111110000\n",
      "   1111111100   1111111000   1111111110   1000000000  11000000000\n",
      "  11100000000  11111111110  11111110000  11111100000  11111111100\n",
      "  11111000000  11111111000  11110000000  10000000000]\n",
      "TOTAL DE INSTANCIAS: 662942\n",
      "INSTANCIAS NULAS: 416866\n",
      "TOTAL VALORES UNICOS PADRAO_A5: 79\n",
      "[           0 111111111111 111100000000 111111100000 111111111000\n",
      " 100000000000 111111000000 110000000000 111111110000 111111111110\n",
      " 111110000000 111111111100 111000000000            1           11\n",
      "           10          111          110          100         1111\n",
      "         1110         1100         1000        11111      1111111\n",
      "        11100        11000        11110        10000       111111\n",
      "       110000       111100       111000       111110       100000\n",
      "      1111100      1100000      1111110      1110000      1111000\n",
      "      1000000   1111111111     11111111     11100000     11000000\n",
      "     11110000     11111100     11111110     11111000     10000000\n",
      "    111111111    110000000    111100000    111111100    111000000\n",
      "    111111000    111111110    111110000    100000000   1111111110\n",
      "   1111110000   1111111000   1111111100   1100000000   1111100000\n",
      "   1110000000   1111000000   1000000000  11111111111  11111111110\n",
      "  11000000000  11111111000  11100000000  11110000000  11111110000\n",
      "  11111111100  11111100000  11111000000  10000000000]\n"
     ]
    }
   ],
   "source": [
    "# VALORES UNICOS DE CADA PADRAO\n",
    "# 0 - SERA TRATADO COMO NAO EXISTENTE\n",
    "for col in patterns:\n",
    "    print('TOTAL DE INSTANCIAS: {}'.format(len(df[col])))\n",
    "    print('INSTANCIAS NULAS: {}'.format(sum(df[col] == 0)))\n",
    "    print('TOTAL VALORES UNICOS {}: {}'.format(col, df[col].nunique()))\n",
    "    print df[col].unique()\n",
    "    df[col] = df[col].replace(0, np.nan)"
   ]
  },
  {
   "cell_type": "code",
   "execution_count": 19,
   "metadata": {},
   "outputs": [
    {
     "data": {
      "text/html": [
       "<div>\n",
       "<table border=\"1\" class=\"dataframe\">\n",
       "  <thead>\n",
       "    <tr style=\"text-align: right;\">\n",
       "      <th></th>\n",
       "      <th>PADRAO_A1</th>\n",
       "      <th>PADRAO_A2</th>\n",
       "      <th>PADRAO_A3</th>\n",
       "      <th>PADRAO_A4</th>\n",
       "      <th>PADRAO_A5</th>\n",
       "    </tr>\n",
       "  </thead>\n",
       "  <tbody>\n",
       "    <tr>\n",
       "      <th>0</th>\n",
       "      <td>NaN</td>\n",
       "      <td>NaN</td>\n",
       "      <td>NaN</td>\n",
       "      <td>NaN</td>\n",
       "      <td>NaN</td>\n",
       "    </tr>\n",
       "    <tr>\n",
       "      <th>1</th>\n",
       "      <td>NaN</td>\n",
       "      <td>NaN</td>\n",
       "      <td>NaN</td>\n",
       "      <td>NaN</td>\n",
       "      <td>NaN</td>\n",
       "    </tr>\n",
       "    <tr>\n",
       "      <th>2</th>\n",
       "      <td>NaN</td>\n",
       "      <td>NaN</td>\n",
       "      <td>NaN</td>\n",
       "      <td>NaN</td>\n",
       "      <td>NaN</td>\n",
       "    </tr>\n",
       "    <tr>\n",
       "      <th>3</th>\n",
       "      <td>NaN</td>\n",
       "      <td>NaN</td>\n",
       "      <td>NaN</td>\n",
       "      <td>NaN</td>\n",
       "      <td>NaN</td>\n",
       "    </tr>\n",
       "    <tr>\n",
       "      <th>4</th>\n",
       "      <td>NaN</td>\n",
       "      <td>NaN</td>\n",
       "      <td>NaN</td>\n",
       "      <td>NaN</td>\n",
       "      <td>NaN</td>\n",
       "    </tr>\n",
       "  </tbody>\n",
       "</table>\n",
       "</div>"
      ],
      "text/plain": [
       "   PADRAO_A1  PADRAO_A2  PADRAO_A3  PADRAO_A4  PADRAO_A5\n",
       "0        NaN        NaN        NaN        NaN        NaN\n",
       "1        NaN        NaN        NaN        NaN        NaN\n",
       "2        NaN        NaN        NaN        NaN        NaN\n",
       "3        NaN        NaN        NaN        NaN        NaN\n",
       "4        NaN        NaN        NaN        NaN        NaN"
      ]
     },
     "execution_count": 19,
     "metadata": {},
     "output_type": "execute_result"
    }
   ],
   "source": [
    "df[patterns].head()"
   ]
  },
  {
   "cell_type": "markdown",
   "metadata": {},
   "source": [
    "## COLUNA: VREF"
   ]
  },
  {
   "cell_type": "code",
   "execution_count": 20,
   "metadata": {},
   "outputs": [
    {
     "name": "stdout",
     "output_type": "stream",
     "text": [
      "TOTAL DE INSTANCIAS: 662942\n",
      "INSTANCIAS NULAS: 245248\n",
      "TOTAL VALORES UNICOS VREF: 2732\n",
      "INSTANCIAS NULAS APOS: 0\n"
     ]
    }
   ],
   "source": [
    "# COLUNA VREF - 0 SERA TRATADO COMO NAO EXISTENTE\n",
    "# TOTAL NUMERO DE INSTANCIAS\n",
    "print('TOTAL DE INSTANCIAS: {}'.format(len(df['VREF'])))\n",
    "\n",
    "# NUMERO DE VALORES UNICOS\n",
    "print('INSTANCIAS NULAS: {}'.format(sum(df['VREF'] == 0)))\n",
    "print('TOTAL VALORES UNICOS {}: {}'.format('VREF', df['VREF'].nunique()))\n",
    "\n",
    "df['VREF'].unique()\n",
    "df['VREF'] = df['VREF'].replace(0, np.nan)\n",
    "print('INSTANCIAS NULAS APOS: {}'.format(sum(df['VREF'] == 0)))"
   ]
  },
  {
   "cell_type": "markdown",
   "metadata": {},
   "source": [
    "## COLUNA: MDB"
   ]
  },
  {
   "cell_type": "code",
   "execution_count": 21,
   "metadata": {},
   "outputs": [
    {
     "name": "stdout",
     "output_type": "stream",
     "text": [
      "TOTAL DE INSTANCIAS: 662942\n",
      "INSTANCIAS NULAS: 0\n",
      "TOTAL VALORES UNICOS MDB: 8\n"
     ]
    },
    {
     "data": {
      "text/plain": [
       "array(['N', 'Z', 'A', 'E', 'B', 'D', 'F', 'C'], dtype=object)"
      ]
     },
     "execution_count": 21,
     "metadata": {},
     "output_type": "execute_result"
    }
   ],
   "source": [
    "# COLUNA MDB - 0 SERA TRATADO COMO NAO EXISTENTE\n",
    "# TOTAL NUMERO DE INSTANCIAS\n",
    "print('TOTAL DE INSTANCIAS: {}'.format(len(df['MDB'])))\n",
    "\n",
    "# NUMERO DE VALORES UNICOS\n",
    "print('INSTANCIAS NULAS: {}'.format(sum(df['MDB'] == 0)))\n",
    "print('TOTAL VALORES UNICOS {}: {}'.format('MDB', df['MDB'].nunique()))\n",
    "\n",
    "df['MDB'].unique()\n",
    "# df['MDB'] = df['MDB'].replace(0, np.nan)\n",
    "# print('INSTANCIAS NULAS APOS: {}'.format(sum(df['MDB'] == 0)))"
   ]
  },
  {
   "cell_type": "code",
   "execution_count": 22,
   "metadata": {},
   "outputs": [
    {
     "data": {
      "text/plain": [
       "<matplotlib.axes._subplots.AxesSubplot at 0x10c9a3550>"
      ]
     },
     "execution_count": 22,
     "metadata": {},
     "output_type": "execute_result"
    },
    {
     "data": {
      "image/png": "[encoded data removed]",
      "text/plain": [
       "<matplotlib.figure.Figure at 0x10cefe4d0>"
      ]
     },
     "metadata": {},
     "output_type": "display_data"
    }
   ],
   "source": [
    "plt.figure(figsize=(12,5))\n",
    "sns.countplot(x='MDB', hue='ALVO_FINAL', data=df)"
   ]
  },
  {
   "cell_type": "markdown",
   "metadata": {},
   "source": [
    "## SELEÇĀO DAS COLUNAS CANDIDATAS"
   ]
  },
  {
   "cell_type": "code",
   "execution_count": 23,
   "metadata": {},
   "outputs": [
    {
     "data": {
      "text/html": [
       "<div>\n",
       "<table border=\"1\" class=\"dataframe\">\n",
       "  <thead>\n",
       "    <tr style=\"text-align: right;\">\n",
       "      <th></th>\n",
       "      <th>MICRO_REGIAO</th>\n",
       "      <th>REGIAO_DESENVOLVIMENTO</th>\n",
       "      <th>SEGMENTO_ECONOMICO_CD</th>\n",
       "      <th>CEP4</th>\n",
       "      <th>CNAE_P4</th>\n",
       "      <th>NATUREZA_JURIDICA_CD</th>\n",
       "      <th>CONTADOR_PESSOA_CD</th>\n",
       "      <th>REATIVADO</th>\n",
       "      <th>PADRAO_A1</th>\n",
       "      <th>PADRAO_A2</th>\n",
       "      <th>PADRAO_A3</th>\n",
       "      <th>PADRAO_A4</th>\n",
       "      <th>PADRAO_A5</th>\n",
       "      <th>VREF</th>\n",
       "      <th>MDB</th>\n",
       "      <th>ALVO_FINAL</th>\n",
       "    </tr>\n",
       "  </thead>\n",
       "  <tbody>\n",
       "    <tr>\n",
       "      <th>0</th>\n",
       "      <td>RECIFE</td>\n",
       "      <td>REGIAO METROPOLITANA DO RECIFE</td>\n",
       "      <td>9.0</td>\n",
       "      <td>5002.0</td>\n",
       "      <td>47423</td>\n",
       "      <td>23</td>\n",
       "      <td>NaN</td>\n",
       "      <td>1</td>\n",
       "      <td>NaN</td>\n",
       "      <td>NaN</td>\n",
       "      <td>NaN</td>\n",
       "      <td>NaN</td>\n",
       "      <td>NaN</td>\n",
       "      <td>NaN</td>\n",
       "      <td>N</td>\n",
       "      <td>0</td>\n",
       "    </tr>\n",
       "    <tr>\n",
       "      <th>1</th>\n",
       "      <td>RECIFE</td>\n",
       "      <td>REGIAO METROPOLITANA DO RECIFE</td>\n",
       "      <td>7.0</td>\n",
       "      <td>5205.0</td>\n",
       "      <td>31012</td>\n",
       "      <td>23</td>\n",
       "      <td>NaN</td>\n",
       "      <td>1</td>\n",
       "      <td>NaN</td>\n",
       "      <td>NaN</td>\n",
       "      <td>NaN</td>\n",
       "      <td>NaN</td>\n",
       "      <td>NaN</td>\n",
       "      <td>NaN</td>\n",
       "      <td>N</td>\n",
       "      <td>0</td>\n",
       "    </tr>\n",
       "    <tr>\n",
       "      <th>2</th>\n",
       "      <td>RECIFE</td>\n",
       "      <td>REGIAO METROPOLITANA DO RECIFE</td>\n",
       "      <td>9.0</td>\n",
       "      <td>5067.0</td>\n",
       "      <td>47440</td>\n",
       "      <td>33</td>\n",
       "      <td>NaN</td>\n",
       "      <td>1</td>\n",
       "      <td>NaN</td>\n",
       "      <td>NaN</td>\n",
       "      <td>NaN</td>\n",
       "      <td>NaN</td>\n",
       "      <td>NaN</td>\n",
       "      <td>NaN</td>\n",
       "      <td>N</td>\n",
       "      <td>0</td>\n",
       "    </tr>\n",
       "    <tr>\n",
       "      <th>3</th>\n",
       "      <td>RECIFE</td>\n",
       "      <td>REGIAO METROPOLITANA DO RECIFE</td>\n",
       "      <td>7.0</td>\n",
       "      <td>5072.0</td>\n",
       "      <td>17214</td>\n",
       "      <td>23</td>\n",
       "      <td>NaN</td>\n",
       "      <td>1</td>\n",
       "      <td>NaN</td>\n",
       "      <td>NaN</td>\n",
       "      <td>NaN</td>\n",
       "      <td>NaN</td>\n",
       "      <td>NaN</td>\n",
       "      <td>NaN</td>\n",
       "      <td>N</td>\n",
       "      <td>0</td>\n",
       "    </tr>\n",
       "    <tr>\n",
       "      <th>4</th>\n",
       "      <td>RECIFE</td>\n",
       "      <td>REGIAO METROPOLITANA DO RECIFE</td>\n",
       "      <td>17.0</td>\n",
       "      <td>5010.0</td>\n",
       "      <td>56112</td>\n",
       "      <td>23</td>\n",
       "      <td>NaN</td>\n",
       "      <td>1</td>\n",
       "      <td>NaN</td>\n",
       "      <td>NaN</td>\n",
       "      <td>NaN</td>\n",
       "      <td>NaN</td>\n",
       "      <td>NaN</td>\n",
       "      <td>NaN</td>\n",
       "      <td>N</td>\n",
       "      <td>0</td>\n",
       "    </tr>\n",
       "  </tbody>\n",
       "</table>\n",
       "</div>"
      ],
      "text/plain": [
       "  MICRO_REGIAO          REGIAO_DESENVOLVIMENTO  SEGMENTO_ECONOMICO_CD    CEP4  \\\n",
       "0       RECIFE  REGIAO METROPOLITANA DO RECIFE                    9.0  5002.0   \n",
       "1       RECIFE  REGIAO METROPOLITANA DO RECIFE                    7.0  5205.0   \n",
       "2       RECIFE  REGIAO METROPOLITANA DO RECIFE                    9.0  5067.0   \n",
       "3       RECIFE  REGIAO METROPOLITANA DO RECIFE                    7.0  5072.0   \n",
       "4       RECIFE  REGIAO METROPOLITANA DO RECIFE                   17.0  5010.0   \n",
       "\n",
       "   CNAE_P4  NATUREZA_JURIDICA_CD  CONTADOR_PESSOA_CD  REATIVADO  PADRAO_A1  \\\n",
       "0    47423                    23                 NaN          1        NaN   \n",
       "1    31012                    23                 NaN          1        NaN   \n",
       "2    47440                    33                 NaN          1        NaN   \n",
       "3    17214                    23                 NaN          1        NaN   \n",
       "4    56112                    23                 NaN          1        NaN   \n",
       "\n",
       "   PADRAO_A2  PADRAO_A3  PADRAO_A4  PADRAO_A5  VREF MDB  ALVO_FINAL  \n",
       "0        NaN        NaN        NaN        NaN   NaN   N           0  \n",
       "1        NaN        NaN        NaN        NaN   NaN   N           0  \n",
       "2        NaN        NaN        NaN        NaN   NaN   N           0  \n",
       "3        NaN        NaN        NaN        NaN   NaN   N           0  \n",
       "4        NaN        NaN        NaN        NaN   NaN   N           0  "
      ]
     },
     "execution_count": 23,
     "metadata": {},
     "output_type": "execute_result"
    }
   ],
   "source": [
    "# COLUNAS FINAIS ESCOLHIDAS PARA INICIAR O TRATAMENTO DOS DADOS\n",
    "columns = ['MICRO_REGIAO', 'REGIAO_DESENVOLVIMENTO', 'SEGMENTO_ECONOMICO_CD', 'CEP4', 'CNAE_P4',\n",
    "           'NATUREZA_JURIDICA_CD', 'CONTADOR_PESSOA_CD', 'REATIVADO', 'PADRAO_A1', 'PADRAO_A2',\n",
    "           'PADRAO_A3', 'PADRAO_A4', 'PADRAO_A5', 'VREF', 'MDB', 'ALVO_FINAL']\n",
    "df[columns].head()"
   ]
  },
  {
   "cell_type": "markdown",
   "metadata": {},
   "source": [
    "## VIZUALIZACAO DE DADOS FALTOSOS"
   ]
  },
  {
   "cell_type": "code",
   "execution_count": 16,
   "metadata": {},
   "outputs": [
    {
     "data": {
      "text/plain": [
       "<matplotlib.legend.Legend at 0x10cd072d0>"
      ]
     },
     "execution_count": 16,
     "metadata": {},
     "output_type": "execute_result"
    },
    {
     "data": {
      "image/png": "[encoded data removed]",
      "text/plain": [
       "<matplotlib.figure.Figure at 0x1141139d0>"
      ]
     },
     "metadata": {},
     "output_type": "display_data"
    }
   ],
   "source": [
    "plt.figure(figsize=(12,4))\n",
    "#FAKE PLOTS JUST TO DISPLAY THE LEGEND\n",
    "plt.plot([], [], color='yellow', label='MISSING')\n",
    "plt.plot([], [], color='purple', label='EXISTING')\n",
    "# HEATMAP TO DISPLAY THE MISSING DATA\n",
    "sns.heatmap(df[columns].isnull(), yticklabels=False, cbar=False, cmap='viridis')\n",
    "plt.legend(bbox_to_anchor=(1.15, 1))"
   ]
  },
  {
   "cell_type": "markdown",
   "metadata": {},
   "source": [
    "Questionamentos:\n",
    "    - CEP sera mesmo necessario?\n",
    "    - Colunas com muitos dados faltosos: ELIMINACAO VERTICAL\n",
    "    - Colunas com poucos dados faltosos: ELIMINCACAO HORIZONTAL"
   ]
  },
  {
   "cell_type": "code",
   "execution_count": 24,
   "metadata": {},
   "outputs": [
    {
     "data": {
      "text/html": [
       "<div>\n",
       "<table border=\"1\" class=\"dataframe\">\n",
       "  <thead>\n",
       "    <tr style=\"text-align: right;\">\n",
       "      <th></th>\n",
       "      <th>MICRO_REGIAO</th>\n",
       "      <th>REGIAO_DESENVOLVIMENTO</th>\n",
       "      <th>SEGMENTO_ECONOMICO_CD</th>\n",
       "      <th>CEP4</th>\n",
       "      <th>CNAE_P4</th>\n",
       "      <th>NATUREZA_JURIDICA_CD</th>\n",
       "      <th>CONTADOR_PESSOA_CD</th>\n",
       "      <th>REATIVADO</th>\n",
       "      <th>PADRAO_A1</th>\n",
       "      <th>PADRAO_A2</th>\n",
       "      <th>PADRAO_A3</th>\n",
       "      <th>PADRAO_A4</th>\n",
       "      <th>PADRAO_A5</th>\n",
       "      <th>VREF</th>\n",
       "      <th>MDB</th>\n",
       "      <th>ALVO_FINAL</th>\n",
       "    </tr>\n",
       "  </thead>\n",
       "  <tbody>\n",
       "    <tr>\n",
       "      <th>0</th>\n",
       "      <td>RECIFE</td>\n",
       "      <td>REGIAO METROPOLITANA DO RECIFE</td>\n",
       "      <td>9.0</td>\n",
       "      <td>5002.0</td>\n",
       "      <td>47423</td>\n",
       "      <td>23</td>\n",
       "      <td>NaN</td>\n",
       "      <td>1</td>\n",
       "      <td>NaN</td>\n",
       "      <td>NaN</td>\n",
       "      <td>NaN</td>\n",
       "      <td>NaN</td>\n",
       "      <td>NaN</td>\n",
       "      <td>NaN</td>\n",
       "      <td>N</td>\n",
       "      <td>0</td>\n",
       "    </tr>\n",
       "    <tr>\n",
       "      <th>1</th>\n",
       "      <td>RECIFE</td>\n",
       "      <td>REGIAO METROPOLITANA DO RECIFE</td>\n",
       "      <td>7.0</td>\n",
       "      <td>5205.0</td>\n",
       "      <td>31012</td>\n",
       "      <td>23</td>\n",
       "      <td>NaN</td>\n",
       "      <td>1</td>\n",
       "      <td>NaN</td>\n",
       "      <td>NaN</td>\n",
       "      <td>NaN</td>\n",
       "      <td>NaN</td>\n",
       "      <td>NaN</td>\n",
       "      <td>NaN</td>\n",
       "      <td>N</td>\n",
       "      <td>0</td>\n",
       "    </tr>\n",
       "    <tr>\n",
       "      <th>2</th>\n",
       "      <td>RECIFE</td>\n",
       "      <td>REGIAO METROPOLITANA DO RECIFE</td>\n",
       "      <td>9.0</td>\n",
       "      <td>5067.0</td>\n",
       "      <td>47440</td>\n",
       "      <td>33</td>\n",
       "      <td>NaN</td>\n",
       "      <td>1</td>\n",
       "      <td>NaN</td>\n",
       "      <td>NaN</td>\n",
       "      <td>NaN</td>\n",
       "      <td>NaN</td>\n",
       "      <td>NaN</td>\n",
       "      <td>NaN</td>\n",
       "      <td>N</td>\n",
       "      <td>0</td>\n",
       "    </tr>\n",
       "    <tr>\n",
       "      <th>3</th>\n",
       "      <td>RECIFE</td>\n",
       "      <td>REGIAO METROPOLITANA DO RECIFE</td>\n",
       "      <td>7.0</td>\n",
       "      <td>5072.0</td>\n",
       "      <td>17214</td>\n",
       "      <td>23</td>\n",
       "      <td>NaN</td>\n",
       "      <td>1</td>\n",
       "      <td>NaN</td>\n",
       "      <td>NaN</td>\n",
       "      <td>NaN</td>\n",
       "      <td>NaN</td>\n",
       "      <td>NaN</td>\n",
       "      <td>NaN</td>\n",
       "      <td>N</td>\n",
       "      <td>0</td>\n",
       "    </tr>\n",
       "    <tr>\n",
       "      <th>4</th>\n",
       "      <td>RECIFE</td>\n",
       "      <td>REGIAO METROPOLITANA DO RECIFE</td>\n",
       "      <td>17.0</td>\n",
       "      <td>5010.0</td>\n",
       "      <td>56112</td>\n",
       "      <td>23</td>\n",
       "      <td>NaN</td>\n",
       "      <td>1</td>\n",
       "      <td>NaN</td>\n",
       "      <td>NaN</td>\n",
       "      <td>NaN</td>\n",
       "      <td>NaN</td>\n",
       "      <td>NaN</td>\n",
       "      <td>NaN</td>\n",
       "      <td>N</td>\n",
       "      <td>0</td>\n",
       "    </tr>\n",
       "  </tbody>\n",
       "</table>\n",
       "</div>"
      ],
      "text/plain": [
       "  MICRO_REGIAO          REGIAO_DESENVOLVIMENTO  SEGMENTO_ECONOMICO_CD    CEP4  \\\n",
       "0       RECIFE  REGIAO METROPOLITANA DO RECIFE                    9.0  5002.0   \n",
       "1       RECIFE  REGIAO METROPOLITANA DO RECIFE                    7.0  5205.0   \n",
       "2       RECIFE  REGIAO METROPOLITANA DO RECIFE                    9.0  5067.0   \n",
       "3       RECIFE  REGIAO METROPOLITANA DO RECIFE                    7.0  5072.0   \n",
       "4       RECIFE  REGIAO METROPOLITANA DO RECIFE                   17.0  5010.0   \n",
       "\n",
       "   CNAE_P4  NATUREZA_JURIDICA_CD  CONTADOR_PESSOA_CD  REATIVADO  PADRAO_A1  \\\n",
       "0    47423                    23                 NaN          1        NaN   \n",
       "1    31012                    23                 NaN          1        NaN   \n",
       "2    47440                    33                 NaN          1        NaN   \n",
       "3    17214                    23                 NaN          1        NaN   \n",
       "4    56112                    23                 NaN          1        NaN   \n",
       "\n",
       "   PADRAO_A2  PADRAO_A3  PADRAO_A4  PADRAO_A5  VREF MDB  ALVO_FINAL  \n",
       "0        NaN        NaN        NaN        NaN   NaN   N           0  \n",
       "1        NaN        NaN        NaN        NaN   NaN   N           0  \n",
       "2        NaN        NaN        NaN        NaN   NaN   N           0  \n",
       "3        NaN        NaN        NaN        NaN   NaN   N           0  \n",
       "4        NaN        NaN        NaN        NaN   NaN   N           0  "
      ]
     },
     "execution_count": 24,
     "metadata": {},
     "output_type": "execute_result"
    }
   ],
   "source": [
    "df = df[columns]\n",
    "df.head()"
   ]
  },
  {
   "cell_type": "code",
   "execution_count": 25,
   "metadata": {},
   "outputs": [
    {
     "data": {
      "text/html": [
       "<div>\n",
       "<table border=\"1\" class=\"dataframe\">\n",
       "  <thead>\n",
       "    <tr style=\"text-align: right;\">\n",
       "      <th></th>\n",
       "      <th>MICRO_REGIAO</th>\n",
       "      <th>REGIAO_DESENVOLVIMENTO</th>\n",
       "      <th>SEGMENTO_ECONOMICO_CD</th>\n",
       "      <th>CEP4</th>\n",
       "      <th>CNAE_P4</th>\n",
       "      <th>NATUREZA_JURIDICA_CD</th>\n",
       "      <th>REATIVADO</th>\n",
       "      <th>VREF</th>\n",
       "      <th>MDB</th>\n",
       "      <th>ALVO_FINAL</th>\n",
       "    </tr>\n",
       "  </thead>\n",
       "  <tbody>\n",
       "    <tr>\n",
       "      <th>0</th>\n",
       "      <td>RECIFE</td>\n",
       "      <td>REGIAO METROPOLITANA DO RECIFE</td>\n",
       "      <td>9.0</td>\n",
       "      <td>5002.0</td>\n",
       "      <td>47423</td>\n",
       "      <td>23</td>\n",
       "      <td>1</td>\n",
       "      <td>NaN</td>\n",
       "      <td>N</td>\n",
       "      <td>0</td>\n",
       "    </tr>\n",
       "    <tr>\n",
       "      <th>1</th>\n",
       "      <td>RECIFE</td>\n",
       "      <td>REGIAO METROPOLITANA DO RECIFE</td>\n",
       "      <td>7.0</td>\n",
       "      <td>5205.0</td>\n",
       "      <td>31012</td>\n",
       "      <td>23</td>\n",
       "      <td>1</td>\n",
       "      <td>NaN</td>\n",
       "      <td>N</td>\n",
       "      <td>0</td>\n",
       "    </tr>\n",
       "    <tr>\n",
       "      <th>2</th>\n",
       "      <td>RECIFE</td>\n",
       "      <td>REGIAO METROPOLITANA DO RECIFE</td>\n",
       "      <td>9.0</td>\n",
       "      <td>5067.0</td>\n",
       "      <td>47440</td>\n",
       "      <td>33</td>\n",
       "      <td>1</td>\n",
       "      <td>NaN</td>\n",
       "      <td>N</td>\n",
       "      <td>0</td>\n",
       "    </tr>\n",
       "    <tr>\n",
       "      <th>3</th>\n",
       "      <td>RECIFE</td>\n",
       "      <td>REGIAO METROPOLITANA DO RECIFE</td>\n",
       "      <td>7.0</td>\n",
       "      <td>5072.0</td>\n",
       "      <td>17214</td>\n",
       "      <td>23</td>\n",
       "      <td>1</td>\n",
       "      <td>NaN</td>\n",
       "      <td>N</td>\n",
       "      <td>0</td>\n",
       "    </tr>\n",
       "    <tr>\n",
       "      <th>4</th>\n",
       "      <td>RECIFE</td>\n",
       "      <td>REGIAO METROPOLITANA DO RECIFE</td>\n",
       "      <td>17.0</td>\n",
       "      <td>5010.0</td>\n",
       "      <td>56112</td>\n",
       "      <td>23</td>\n",
       "      <td>1</td>\n",
       "      <td>NaN</td>\n",
       "      <td>N</td>\n",
       "      <td>0</td>\n",
       "    </tr>\n",
       "  </tbody>\n",
       "</table>\n",
       "</div>"
      ],
      "text/plain": [
       "  MICRO_REGIAO          REGIAO_DESENVOLVIMENTO  SEGMENTO_ECONOMICO_CD    CEP4  \\\n",
       "0       RECIFE  REGIAO METROPOLITANA DO RECIFE                    9.0  5002.0   \n",
       "1       RECIFE  REGIAO METROPOLITANA DO RECIFE                    7.0  5205.0   \n",
       "2       RECIFE  REGIAO METROPOLITANA DO RECIFE                    9.0  5067.0   \n",
       "3       RECIFE  REGIAO METROPOLITANA DO RECIFE                    7.0  5072.0   \n",
       "4       RECIFE  REGIAO METROPOLITANA DO RECIFE                   17.0  5010.0   \n",
       "\n",
       "   CNAE_P4  NATUREZA_JURIDICA_CD  REATIVADO  VREF MDB  ALVO_FINAL  \n",
       "0    47423                    23          1   NaN   N           0  \n",
       "1    31012                    23          1   NaN   N           0  \n",
       "2    47440                    33          1   NaN   N           0  \n",
       "3    17214                    23          1   NaN   N           0  \n",
       "4    56112                    23          1   NaN   N           0  "
      ]
     },
     "execution_count": 25,
     "metadata": {},
     "output_type": "execute_result"
    }
   ],
   "source": [
    "to_be_eliminated = ['CONTADOR_PESSOA_CD', 'PADRAO_A1', 'PADRAO_A2', 'PADRAO_A3', 'PADRAO_A4', 'PADRAO_A5']\n",
    "df.drop(labels=to_be_eliminated, axis=1, inplace=True)\n",
    "df.head()"
   ]
  },
  {
   "cell_type": "code",
   "execution_count": 19,
   "metadata": {},
   "outputs": [
    {
     "data": {
      "text/plain": [
       "<matplotlib.legend.Legend at 0x1334c3a50>"
      ]
     },
     "execution_count": 19,
     "metadata": {},
     "output_type": "execute_result"
    },
    {
     "data": {
      "image/png": "[encoded data removed]",
      "text/plain": [
       "<matplotlib.figure.Figure at 0x4b043a210>"
      ]
     },
     "metadata": {},
     "output_type": "display_data"
    }
   ],
   "source": [
    "plt.figure(figsize=(12,4))\n",
    "#FAKE PLOTS JUST TO DISPLAY THE LEGEND\n",
    "plt.plot([], [], color='yellow', label='MISSING')\n",
    "plt.plot([], [], color='purple', label='EXISTING')\n",
    "# HEATMAP TO DISPLAY THE MISSING DATA\n",
    "sns.heatmap(df.isnull(), yticklabels=False, cbar=False, cmap='viridis')\n",
    "plt.legend(bbox_to_anchor=(1.15, 1))"
   ]
  },
  {
   "cell_type": "markdown",
   "metadata": {},
   "source": [
    "## ESTRATEGIA PARA INTERPOLACAO DE VREF\n",
    "\n",
    "    - CADA VALOR NULO SERA SUBSTITUIDO PELA MEDIA DO VRF POR \n",
    "      REGIA_DESENVOLVIMENTO"
   ]
  },
  {
   "cell_type": "code",
   "execution_count": 26,
   "metadata": {},
   "outputs": [
    {
     "data": {
      "text/plain": [
       "(array([ 0,  1,  2,  3,  4,  5,  6,  7,  8,  9, 10, 11]),\n",
       " <a list of 12 Text xticklabel objects>)"
      ]
     },
     "execution_count": 26,
     "metadata": {},
     "output_type": "execute_result"
    },
    {
     "data": {
      "image/png": "[encoded data removed]",
      "text/plain": [
       "<matplotlib.figure.Figure at 0x10d09da90>"
      ]
     },
     "metadata": {},
     "output_type": "display_data"
    }
   ],
   "source": [
    "plt.figure(figsize=(20,10))\n",
    "plot = sns.boxplot(x='REGIAO_DESENVOLVIMENTO', y='VREF', data=df)\n",
    "plt.xticks(rotation=90)"
   ]
  },
  {
   "cell_type": "code",
   "execution_count": 27,
   "metadata": {},
   "outputs": [
    {
     "name": "stdout",
     "output_type": "stream",
     "text": [
      "12\n",
      "12\n",
      "['REGIAO METROPOLITANA DO RECIFE' 'MATA SUL' 'AGRESTE MERIDIONAL'\n",
      " 'SERTAO DO ARARIPE' 'MATA NORTE' 'SERTAO DO PAJEU' 'AGRESTE CENTRAL'\n",
      " 'AGRESTE SETENTRIONAL' 'SERTAO CENTRAL' 'SERTAO DE ITAPARICA'\n",
      " 'SERTAO DO MOXOTO' 'SERTAO DO SAO FRANCISCO']\n",
      "[1156556.8536576594, 306613.61972579849, 480026.4284319111, 251568.43900414938, 491339.93947139964, 394282.61948610016, 357970.51241567987, 97756.96729645005, 944816.04325699748, 447332.40596928424, 402171.08333333331, 705474.11374989047]\n"
     ]
    }
   ],
   "source": [
    "rg_dev = df['REGIAO_DESENVOLVIMENTO'].unique()\n",
    "avg_vals = []\n",
    "\n",
    "for rg in rg_dev:\n",
    "    rg_mean = df[df['REGIAO_DESENVOLVIMENTO'] == rg]['VREF'].mean()\n",
    "    avg_vals.append(rg_mean)\n",
    "\n",
    "print len(df['REGIAO_DESENVOLVIMENTO'].unique())\n",
    "print len(avg_vals)\n",
    "\n",
    "print df['REGIAO_DESENVOLVIMENTO'].unique()\n",
    "print avg_vals"
   ]
  },
  {
   "cell_type": "code",
   "execution_count": 28,
   "metadata": {
    "collapsed": true
   },
   "outputs": [],
   "source": [
    "## MAPPING FUNCTION\n",
    "def avg(cols):\n",
    "    rg_ = cols[0]\n",
    "    vrf = cols[1]\n",
    "    if pd.isnull(vrf):\n",
    "        for idx, rg in enumerate(rg_dev):\n",
    "            if rg_ == rg:\n",
    "                return avg_vals[idx]\n",
    "    else:\n",
    "        return vrf"
   ]
  },
  {
   "cell_type": "code",
   "execution_count": 29,
   "metadata": {
    "collapsed": true
   },
   "outputs": [],
   "source": [
    "# OVERRIDING\n",
    "df['VREF'] = df[['REGIAO_DESENVOLVIMENTO', 'VREF']].apply(avg, axis=1)"
   ]
  },
  {
   "cell_type": "code",
   "execution_count": 30,
   "metadata": {},
   "outputs": [
    {
     "data": {
      "text/html": [
       "<div>\n",
       "<table border=\"1\" class=\"dataframe\">\n",
       "  <thead>\n",
       "    <tr style=\"text-align: right;\">\n",
       "      <th></th>\n",
       "      <th>MICRO_REGIAO</th>\n",
       "      <th>REGIAO_DESENVOLVIMENTO</th>\n",
       "      <th>SEGMENTO_ECONOMICO_CD</th>\n",
       "      <th>CEP4</th>\n",
       "      <th>CNAE_P4</th>\n",
       "      <th>NATUREZA_JURIDICA_CD</th>\n",
       "      <th>REATIVADO</th>\n",
       "      <th>VREF</th>\n",
       "      <th>MDB</th>\n",
       "      <th>ALVO_FINAL</th>\n",
       "    </tr>\n",
       "  </thead>\n",
       "  <tbody>\n",
       "    <tr>\n",
       "      <th>0</th>\n",
       "      <td>RECIFE</td>\n",
       "      <td>REGIAO METROPOLITANA DO RECIFE</td>\n",
       "      <td>9.0</td>\n",
       "      <td>5002.0</td>\n",
       "      <td>47423</td>\n",
       "      <td>23</td>\n",
       "      <td>1</td>\n",
       "      <td>1.156557e+06</td>\n",
       "      <td>N</td>\n",
       "      <td>0</td>\n",
       "    </tr>\n",
       "    <tr>\n",
       "      <th>1</th>\n",
       "      <td>RECIFE</td>\n",
       "      <td>REGIAO METROPOLITANA DO RECIFE</td>\n",
       "      <td>7.0</td>\n",
       "      <td>5205.0</td>\n",
       "      <td>31012</td>\n",
       "      <td>23</td>\n",
       "      <td>1</td>\n",
       "      <td>1.156557e+06</td>\n",
       "      <td>N</td>\n",
       "      <td>0</td>\n",
       "    </tr>\n",
       "    <tr>\n",
       "      <th>2</th>\n",
       "      <td>RECIFE</td>\n",
       "      <td>REGIAO METROPOLITANA DO RECIFE</td>\n",
       "      <td>9.0</td>\n",
       "      <td>5067.0</td>\n",
       "      <td>47440</td>\n",
       "      <td>33</td>\n",
       "      <td>1</td>\n",
       "      <td>1.156557e+06</td>\n",
       "      <td>N</td>\n",
       "      <td>0</td>\n",
       "    </tr>\n",
       "    <tr>\n",
       "      <th>3</th>\n",
       "      <td>RECIFE</td>\n",
       "      <td>REGIAO METROPOLITANA DO RECIFE</td>\n",
       "      <td>7.0</td>\n",
       "      <td>5072.0</td>\n",
       "      <td>17214</td>\n",
       "      <td>23</td>\n",
       "      <td>1</td>\n",
       "      <td>1.156557e+06</td>\n",
       "      <td>N</td>\n",
       "      <td>0</td>\n",
       "    </tr>\n",
       "    <tr>\n",
       "      <th>4</th>\n",
       "      <td>RECIFE</td>\n",
       "      <td>REGIAO METROPOLITANA DO RECIFE</td>\n",
       "      <td>17.0</td>\n",
       "      <td>5010.0</td>\n",
       "      <td>56112</td>\n",
       "      <td>23</td>\n",
       "      <td>1</td>\n",
       "      <td>1.156557e+06</td>\n",
       "      <td>N</td>\n",
       "      <td>0</td>\n",
       "    </tr>\n",
       "  </tbody>\n",
       "</table>\n",
       "</div>"
      ],
      "text/plain": [
       "  MICRO_REGIAO          REGIAO_DESENVOLVIMENTO  SEGMENTO_ECONOMICO_CD    CEP4  \\\n",
       "0       RECIFE  REGIAO METROPOLITANA DO RECIFE                    9.0  5002.0   \n",
       "1       RECIFE  REGIAO METROPOLITANA DO RECIFE                    7.0  5205.0   \n",
       "2       RECIFE  REGIAO METROPOLITANA DO RECIFE                    9.0  5067.0   \n",
       "3       RECIFE  REGIAO METROPOLITANA DO RECIFE                    7.0  5072.0   \n",
       "4       RECIFE  REGIAO METROPOLITANA DO RECIFE                   17.0  5010.0   \n",
       "\n",
       "   CNAE_P4  NATUREZA_JURIDICA_CD  REATIVADO          VREF MDB  ALVO_FINAL  \n",
       "0    47423                    23          1  1.156557e+06   N           0  \n",
       "1    31012                    23          1  1.156557e+06   N           0  \n",
       "2    47440                    33          1  1.156557e+06   N           0  \n",
       "3    17214                    23          1  1.156557e+06   N           0  \n",
       "4    56112                    23          1  1.156557e+06   N           0  "
      ]
     },
     "execution_count": 30,
     "metadata": {},
     "output_type": "execute_result"
    }
   ],
   "source": [
    "df.head()"
   ]
  },
  {
   "cell_type": "code",
   "execution_count": 31,
   "metadata": {},
   "outputs": [
    {
     "data": {
      "text/plain": [
       "0"
      ]
     },
     "execution_count": 31,
     "metadata": {},
     "output_type": "execute_result"
    }
   ],
   "source": [
    "sum(df['VREF'].isnull())"
   ]
  },
  {
   "cell_type": "code",
   "execution_count": 85,
   "metadata": {},
   "outputs": [
    {
     "data": {
      "text/plain": [
       "<matplotlib.legend.Legend at 0x136f20690>"
      ]
     },
     "execution_count": 85,
     "metadata": {},
     "output_type": "execute_result"
    },
    {
     "data": {
      "image/png": "[encoded data removed]",
      "text/plain": [
       "<matplotlib.figure.Figure at 0x13707d3d0>"
      ]
     },
     "metadata": {},
     "output_type": "display_data"
    }
   ],
   "source": [
    "plt.figure(figsize=(12,4))\n",
    "#FAKE PLOTS JUST TO DISPLAY THE LEGEND\n",
    "plt.plot([], [], color='yellow', label='MISSING')\n",
    "plt.plot([], [], color='purple', label='EXISTING')\n",
    "# HEATMAP TO DISPLAY THE MISSING DATA\n",
    "sns.heatmap(df.isnull(), yticklabels=False, cbar=False, cmap='viridis')\n",
    "plt.legend(bbox_to_anchor=(1.15, 1))"
   ]
  },
  {
   "cell_type": "code",
   "execution_count": 32,
   "metadata": {
    "collapsed": true
   },
   "outputs": [],
   "source": [
    "# JUST DROP THE REMAINING MISSING ROWS\n",
    "df.dropna(inplace=True)"
   ]
  },
  {
   "cell_type": "code",
   "execution_count": 88,
   "metadata": {},
   "outputs": [
    {
     "data": {
      "text/plain": [
       "<matplotlib.legend.Legend at 0x928d16b10>"
      ]
     },
     "execution_count": 88,
     "metadata": {},
     "output_type": "execute_result"
    },
    {
     "data": {
      "image/png": "[encoded data removed]",
      "text/plain": [
       "<matplotlib.figure.Figure at 0xb4f03aad0>"
      ]
     },
     "metadata": {},
     "output_type": "display_data"
    }
   ],
   "source": [
    "plt.figure(figsize=(12,4))\n",
    "#FAKE PLOTS JUST TO DISPLAY THE LEGEND\n",
    "plt.plot([], [], color='yellow', label='MISSING')\n",
    "plt.plot([], [], color='purple', label='EXISTING')\n",
    "# HEATMAP TO DISPLAY THE MISSING DATA\n",
    "sns.heatmap(df.isnull(), yticklabels=False, cbar=False, cmap='viridis')\n",
    "plt.legend(bbox_to_anchor=(1.15, 1))"
   ]
  },
  {
   "cell_type": "markdown",
   "metadata": {},
   "source": [
    "## TRATAMENTO DAS COLUNAS CATEGORICAS"
   ]
  },
  {
   "cell_type": "code",
   "execution_count": 33,
   "metadata": {
    "collapsed": true
   },
   "outputs": [],
   "source": [
    "#ELIMINACAO DO CEP, CNAE\n",
    "comp = df.drop(labels=['CEP4', 'CNAE_P4'], axis=1)"
   ]
  },
  {
   "cell_type": "code",
   "execution_count": 34,
   "metadata": {},
   "outputs": [
    {
     "data": {
      "text/html": [
       "<div>\n",
       "<table border=\"1\" class=\"dataframe\">\n",
       "  <thead>\n",
       "    <tr style=\"text-align: right;\">\n",
       "      <th></th>\n",
       "      <th>MICRO_REGIAO</th>\n",
       "      <th>REGIAO_DESENVOLVIMENTO</th>\n",
       "      <th>SEGMENTO_ECONOMICO_CD</th>\n",
       "      <th>NATUREZA_JURIDICA_CD</th>\n",
       "      <th>REATIVADO</th>\n",
       "      <th>VREF</th>\n",
       "      <th>MDB</th>\n",
       "      <th>ALVO_FINAL</th>\n",
       "    </tr>\n",
       "  </thead>\n",
       "  <tbody>\n",
       "    <tr>\n",
       "      <th>0</th>\n",
       "      <td>RECIFE</td>\n",
       "      <td>REGIAO METROPOLITANA DO RECIFE</td>\n",
       "      <td>9.0</td>\n",
       "      <td>23</td>\n",
       "      <td>1</td>\n",
       "      <td>1.156557e+06</td>\n",
       "      <td>N</td>\n",
       "      <td>0</td>\n",
       "    </tr>\n",
       "    <tr>\n",
       "      <th>1</th>\n",
       "      <td>RECIFE</td>\n",
       "      <td>REGIAO METROPOLITANA DO RECIFE</td>\n",
       "      <td>7.0</td>\n",
       "      <td>23</td>\n",
       "      <td>1</td>\n",
       "      <td>1.156557e+06</td>\n",
       "      <td>N</td>\n",
       "      <td>0</td>\n",
       "    </tr>\n",
       "    <tr>\n",
       "      <th>2</th>\n",
       "      <td>RECIFE</td>\n",
       "      <td>REGIAO METROPOLITANA DO RECIFE</td>\n",
       "      <td>9.0</td>\n",
       "      <td>33</td>\n",
       "      <td>1</td>\n",
       "      <td>1.156557e+06</td>\n",
       "      <td>N</td>\n",
       "      <td>0</td>\n",
       "    </tr>\n",
       "    <tr>\n",
       "      <th>3</th>\n",
       "      <td>RECIFE</td>\n",
       "      <td>REGIAO METROPOLITANA DO RECIFE</td>\n",
       "      <td>7.0</td>\n",
       "      <td>23</td>\n",
       "      <td>1</td>\n",
       "      <td>1.156557e+06</td>\n",
       "      <td>N</td>\n",
       "      <td>0</td>\n",
       "    </tr>\n",
       "    <tr>\n",
       "      <th>4</th>\n",
       "      <td>RECIFE</td>\n",
       "      <td>REGIAO METROPOLITANA DO RECIFE</td>\n",
       "      <td>17.0</td>\n",
       "      <td>23</td>\n",
       "      <td>1</td>\n",
       "      <td>1.156557e+06</td>\n",
       "      <td>N</td>\n",
       "      <td>0</td>\n",
       "    </tr>\n",
       "  </tbody>\n",
       "</table>\n",
       "</div>"
      ],
      "text/plain": [
       "  MICRO_REGIAO          REGIAO_DESENVOLVIMENTO  SEGMENTO_ECONOMICO_CD  \\\n",
       "0       RECIFE  REGIAO METROPOLITANA DO RECIFE                    9.0   \n",
       "1       RECIFE  REGIAO METROPOLITANA DO RECIFE                    7.0   \n",
       "2       RECIFE  REGIAO METROPOLITANA DO RECIFE                    9.0   \n",
       "3       RECIFE  REGIAO METROPOLITANA DO RECIFE                    7.0   \n",
       "4       RECIFE  REGIAO METROPOLITANA DO RECIFE                   17.0   \n",
       "\n",
       "   NATUREZA_JURIDICA_CD  REATIVADO          VREF MDB  ALVO_FINAL  \n",
       "0                    23          1  1.156557e+06   N           0  \n",
       "1                    23          1  1.156557e+06   N           0  \n",
       "2                    33          1  1.156557e+06   N           0  \n",
       "3                    23          1  1.156557e+06   N           0  \n",
       "4                    23          1  1.156557e+06   N           0  "
      ]
     },
     "execution_count": 34,
     "metadata": {},
     "output_type": "execute_result"
    }
   ],
   "source": [
    "comp.head()"
   ]
  },
  {
   "cell_type": "code",
   "execution_count": 35,
   "metadata": {
    "collapsed": true
   },
   "outputs": [],
   "source": [
    "comp_cols = list(comp.columns)\n",
    "comp_cols.remove('VREF')\n",
    "comp_cols.remove('ALVO_FINAL')"
   ]
  },
  {
   "cell_type": "code",
   "execution_count": 36,
   "metadata": {
    "collapsed": true
   },
   "outputs": [],
   "source": [
    "for col in comp_cols:\n",
    "    comp = pd.concat(objs=[comp, pd.get_dummies(comp[col])], axis=1)\n",
    "comp.drop(labels=comp_cols, axis=1, inplace=True)"
   ]
  },
  {
   "cell_type": "code",
   "execution_count": 37,
   "metadata": {},
   "outputs": [
    {
     "data": {
      "text/html": [
       "<div>\n",
       "<table border=\"1\" class=\"dataframe\">\n",
       "  <thead>\n",
       "    <tr style=\"text-align: right;\">\n",
       "      <th></th>\n",
       "      <th>VREF</th>\n",
       "      <th>ALVO_FINAL</th>\n",
       "      <th>ALTO CAPIBARIBE</th>\n",
       "      <th>ARARIPINA</th>\n",
       "      <th>BREJO PERNAMBUCANO</th>\n",
       "      <th>FERNANDO DE NORONHA</th>\n",
       "      <th>GARANHUNS</th>\n",
       "      <th>ITAMARAC�</th>\n",
       "      <th>ITAPARICA</th>\n",
       "      <th>MATA MERIDIONAL PERNAMBUCANA</th>\n",
       "      <th>...</th>\n",
       "      <th>0</th>\n",
       "      <th>1</th>\n",
       "      <th>A</th>\n",
       "      <th>B</th>\n",
       "      <th>C</th>\n",
       "      <th>D</th>\n",
       "      <th>E</th>\n",
       "      <th>F</th>\n",
       "      <th>N</th>\n",
       "      <th>Z</th>\n",
       "    </tr>\n",
       "  </thead>\n",
       "  <tbody>\n",
       "    <tr>\n",
       "      <th>0</th>\n",
       "      <td>1.156557e+06</td>\n",
       "      <td>0</td>\n",
       "      <td>0</td>\n",
       "      <td>0</td>\n",
       "      <td>0</td>\n",
       "      <td>0</td>\n",
       "      <td>0</td>\n",
       "      <td>0</td>\n",
       "      <td>0</td>\n",
       "      <td>0</td>\n",
       "      <td>...</td>\n",
       "      <td>0</td>\n",
       "      <td>1</td>\n",
       "      <td>0</td>\n",
       "      <td>0</td>\n",
       "      <td>0</td>\n",
       "      <td>0</td>\n",
       "      <td>0</td>\n",
       "      <td>0</td>\n",
       "      <td>1</td>\n",
       "      <td>0</td>\n",
       "    </tr>\n",
       "    <tr>\n",
       "      <th>1</th>\n",
       "      <td>1.156557e+06</td>\n",
       "      <td>0</td>\n",
       "      <td>0</td>\n",
       "      <td>0</td>\n",
       "      <td>0</td>\n",
       "      <td>0</td>\n",
       "      <td>0</td>\n",
       "      <td>0</td>\n",
       "      <td>0</td>\n",
       "      <td>0</td>\n",
       "      <td>...</td>\n",
       "      <td>0</td>\n",
       "      <td>1</td>\n",
       "      <td>0</td>\n",
       "      <td>0</td>\n",
       "      <td>0</td>\n",
       "      <td>0</td>\n",
       "      <td>0</td>\n",
       "      <td>0</td>\n",
       "      <td>1</td>\n",
       "      <td>0</td>\n",
       "    </tr>\n",
       "    <tr>\n",
       "      <th>2</th>\n",
       "      <td>1.156557e+06</td>\n",
       "      <td>0</td>\n",
       "      <td>0</td>\n",
       "      <td>0</td>\n",
       "      <td>0</td>\n",
       "      <td>0</td>\n",
       "      <td>0</td>\n",
       "      <td>0</td>\n",
       "      <td>0</td>\n",
       "      <td>0</td>\n",
       "      <td>...</td>\n",
       "      <td>0</td>\n",
       "      <td>1</td>\n",
       "      <td>0</td>\n",
       "      <td>0</td>\n",
       "      <td>0</td>\n",
       "      <td>0</td>\n",
       "      <td>0</td>\n",
       "      <td>0</td>\n",
       "      <td>1</td>\n",
       "      <td>0</td>\n",
       "    </tr>\n",
       "    <tr>\n",
       "      <th>3</th>\n",
       "      <td>1.156557e+06</td>\n",
       "      <td>0</td>\n",
       "      <td>0</td>\n",
       "      <td>0</td>\n",
       "      <td>0</td>\n",
       "      <td>0</td>\n",
       "      <td>0</td>\n",
       "      <td>0</td>\n",
       "      <td>0</td>\n",
       "      <td>0</td>\n",
       "      <td>...</td>\n",
       "      <td>0</td>\n",
       "      <td>1</td>\n",
       "      <td>0</td>\n",
       "      <td>0</td>\n",
       "      <td>0</td>\n",
       "      <td>0</td>\n",
       "      <td>0</td>\n",
       "      <td>0</td>\n",
       "      <td>1</td>\n",
       "      <td>0</td>\n",
       "    </tr>\n",
       "    <tr>\n",
       "      <th>4</th>\n",
       "      <td>1.156557e+06</td>\n",
       "      <td>0</td>\n",
       "      <td>0</td>\n",
       "      <td>0</td>\n",
       "      <td>0</td>\n",
       "      <td>0</td>\n",
       "      <td>0</td>\n",
       "      <td>0</td>\n",
       "      <td>0</td>\n",
       "      <td>0</td>\n",
       "      <td>...</td>\n",
       "      <td>0</td>\n",
       "      <td>1</td>\n",
       "      <td>0</td>\n",
       "      <td>0</td>\n",
       "      <td>0</td>\n",
       "      <td>0</td>\n",
       "      <td>0</td>\n",
       "      <td>0</td>\n",
       "      <td>1</td>\n",
       "      <td>0</td>\n",
       "    </tr>\n",
       "  </tbody>\n",
       "</table>\n",
       "<p>5 rows × 77 columns</p>\n",
       "</div>"
      ],
      "text/plain": [
       "           VREF  ALVO_FINAL  ALTO CAPIBARIBE  ARARIPINA  BREJO PERNAMBUCANO  \\\n",
       "0  1.156557e+06           0                0          0                   0   \n",
       "1  1.156557e+06           0                0          0                   0   \n",
       "2  1.156557e+06           0                0          0                   0   \n",
       "3  1.156557e+06           0                0          0                   0   \n",
       "4  1.156557e+06           0                0          0                   0   \n",
       "\n",
       "   FERNANDO DE NORONHA  GARANHUNS  ITAMARAC�  ITAPARICA  \\\n",
       "0                    0          0          0          0   \n",
       "1                    0          0          0          0   \n",
       "2                    0          0          0          0   \n",
       "3                    0          0          0          0   \n",
       "4                    0          0          0          0   \n",
       "\n",
       "   MATA MERIDIONAL PERNAMBUCANA ...  0  1  A  B  C  D  E  F  N  Z  \n",
       "0                             0 ...  0  1  0  0  0  0  0  0  1  0  \n",
       "1                             0 ...  0  1  0  0  0  0  0  0  1  0  \n",
       "2                             0 ...  0  1  0  0  0  0  0  0  1  0  \n",
       "3                             0 ...  0  1  0  0  0  0  0  0  1  0  \n",
       "4                             0 ...  0  1  0  0  0  0  0  0  1  0  \n",
       "\n",
       "[5 rows x 77 columns]"
      ]
     },
     "execution_count": 37,
     "metadata": {},
     "output_type": "execute_result"
    }
   ],
   "source": [
    "comp.head()"
   ]
  },
  {
   "cell_type": "code",
   "execution_count": 38,
   "metadata": {
    "collapsed": true
   },
   "outputs": [],
   "source": [
    "comp.to_csv('data/transformed.csv')"
   ]
  },
  {
   "cell_type": "markdown",
   "metadata": {},
   "source": [
    "## CLASSIFICACAO E RESULTADOS"
   ]
  },
  {
   "cell_type": "code",
   "execution_count": 91,
   "metadata": {
    "collapsed": true
   },
   "outputs": [],
   "source": [
    "from sklearn.preprocessing import StandardScaler\n",
    "\n",
    "from sklearn.model_selection import train_test_split\n",
    "from sklearn.model_selection import cross_val_score\n",
    "\n",
    "from sklearn.metrics import confusion_matrix\n",
    "from sklearn.metrics import classification_report\n",
    "\n",
    "from sklearn.svm import SVC\n",
    "from sklearn.neural_network import MLPClassifier\n",
    "from sklearn.ensemble import RandomForestClassifier"
   ]
  },
  {
   "cell_type": "code",
   "execution_count": 94,
   "metadata": {
    "collapsed": true
   },
   "outputs": [],
   "source": [
    "X = comp.drop(labels=['ALVO_FINAL'], axis=1)\n",
    "y = comp['ALVO_FINAL']"
   ]
  },
  {
   "cell_type": "code",
   "execution_count": 95,
   "metadata": {
    "collapsed": true
   },
   "outputs": [],
   "source": [
    "X_train, X_test, y_train, y_test = train_test_split(X, y, test_size=0.3)"
   ]
  },
  {
   "cell_type": "code",
   "execution_count": 96,
   "metadata": {
    "collapsed": true
   },
   "outputs": [],
   "source": [
    "std = StandardScaler()\n",
    "X_train = std.fit_transform(X_train)\n",
    "X_test = std.transform(X_test)"
   ]
  },
  {
   "cell_type": "code",
   "execution_count": 97,
   "metadata": {},
   "outputs": [
    {
     "name": "stdout",
     "output_type": "stream",
     "text": [
      "(452792, 76)\n",
      "(194054, 76)\n"
     ]
    }
   ],
   "source": [
    "print X_train.shape\n",
    "print X_test.shape"
   ]
  },
  {
   "cell_type": "markdown",
   "metadata": {},
   "source": [
    "## REDE NEURAL - MODEL FIT AND SCORE & METRICS"
   ]
  },
  {
   "cell_type": "code",
   "execution_count": 87,
   "metadata": {
    "scrolled": false
   },
   "outputs": [
    {
     "name": "stdout",
     "output_type": "stream",
     "text": [
      "SCORE: 0.927607779278\n",
      "             precision    recall  f1-score   support\n",
      "\n",
      "          0       0.93      1.00      0.96    180006\n",
      "          1       0.00      0.00      0.00     14048\n",
      "\n",
      "avg / total       0.86      0.93      0.89    194054\n",
      "\n"
     ]
    },
    {
     "data": {
      "image/png": "[encoded data removed]",
      "text/plain": [
       "<matplotlib.figure.Figure at 0x10cb66dd0>"
      ]
     },
     "metadata": {},
     "output_type": "display_data"
    }
   ],
   "source": [
    "dim = X.shape[1]\n",
    "clf = MLPClassifier(activation='logistic', solver='adam', alpha=1e-5, hidden_layer_sizes=(dim / 2, dim, 2 * dim),\n",
    "                    random_state=1)\n",
    "clf.fit(X_train, y_train)\n",
    "print 'SCORE: {}'.format(clf.score(X_test, y_test))\n",
    "\n",
    "preds = clf.predict(X_test)\n",
    "cfm = confusion_matrix(y_test, preds)\n",
    "sns.heatmap(cfm , annot=True, cbar=False, fmt='g', cmap='Blues')\n",
    "plt.title('REDE NEURAL - MATRIX DE CONFUSAO')\n",
    "\n",
    "print classification_report(y_test, preds)"
   ]
  },
  {
   "cell_type": "markdown",
   "metadata": {},
   "source": [
    "## RANDOM FOREST - MODEL FIT AND SCORE & METRICS"
   ]
  },
  {
   "cell_type": "code",
   "execution_count": 65,
   "metadata": {},
   "outputs": [
    {
     "name": "stdout",
     "output_type": "stream",
     "text": [
      "SCORE: 0.924835355107\n",
      "             precision    recall  f1-score   support\n",
      "\n",
      "          0       0.93      1.00      0.96    179826\n",
      "          1       0.13      0.00      0.01     14228\n",
      "\n",
      "avg / total       0.87      0.92      0.89    194054\n",
      "\n"
     ]
    },
    {
     "data": {
      "image/png": "[encoded data removed]",
      "text/plain": [
       "<matplotlib.figure.Figure at 0x10bcbc390>"
      ]
     },
     "metadata": {},
     "output_type": "display_data"
    }
   ],
   "source": [
    "clf = RandomForestClassifier(n_estimators=10, max_depth=None, min_samples_split=2, random_state=0)\n",
    "clf.fit(X_train, y_train)\n",
    "print 'SCORE: {}'.format(clf.score(X_test, y_test))\n",
    "\n",
    "preds = clf.predict(X_test)\n",
    "cfm = confusion_matrix(y_test, preds)\n",
    "sns.heatmap(cfm , annot=True, cbar=False, fmt='g', cmap='Blues')\n",
    "plt.title('RANDOM FOREST - MATRIX DE CONFUSAO')\n",
    "\n",
    "print classification_report(y_test, preds)"
   ]
  },
  {
   "cell_type": "markdown",
   "metadata": {},
   "source": [
    "## REDE NEURAL - REDUCAO DE DIMENSAO COM RANDOM PROJECTIONS"
   ]
  },
  {
   "cell_type": "code",
   "execution_count": 86,
   "metadata": {},
   "outputs": [
    {
     "name": "stdout",
     "output_type": "stream",
     "text": [
      "BEFORE RANDOM PROJECTIONS\n",
      "(452792, 76)\n",
      "(194054, 76)\n",
      "AFTER RANDOM PROJECTIONS\n",
      "(452792, 5)\n",
      "(194054, 5)\n",
      "SCORE: 0.927607779278\n",
      "             precision    recall  f1-score   support\n",
      "\n",
      "          0       0.93      1.00      0.96    180006\n",
      "          1       0.00      0.00      0.00     14048\n",
      "\n",
      "avg / total       0.86      0.93      0.89    194054\n",
      "\n"
     ]
    },
    {
     "data": {
      "image/png": "[encoded data removed]",
      "text/plain": [
       "<matplotlib.figure.Figure at 0x118803510>"
      ]
     },
     "metadata": {},
     "output_type": "display_data"
    }
   ],
   "source": [
    "from sklearn.random_projection import GaussianRandomProjection\n",
    "\n",
    "print 'BEFORE RANDOM PROJECTIONS'\n",
    "print X_train.shape\n",
    "print X_test.shape\n",
    "\n",
    "tf = GaussianRandomProjection(n_components=5)\n",
    "X_train = tf.fit_transform(X_train)\n",
    "X_test = tf.transform(X_test)\n",
    "\n",
    "print 'AFTER RANDOM PROJECTIONS'\n",
    "print X_train.shape\n",
    "print X_test.shape\n",
    "\n",
    "dim = X.shape[1]\n",
    "clf = MLPClassifier(activation='logistic', solver='adam', alpha=1e-5, hidden_layer_sizes=(dim / 2, dim, 2 * dim),\n",
    "                    random_state=1)\n",
    "clf.fit(X_train, y_train)\n",
    "print 'SCORE: {}'.format(clf.score(X_test, y_test))\n",
    "\n",
    "preds = clf.predict(X_test)\n",
    "cfm = confusion_matrix(y_test, preds)\n",
    "sns.heatmap(cfm , annot=True, cbar=False, fmt='g', cmap='Blues')\n",
    "plt.title('REDE NEURAL - MATRIX DE CONFUSAO')\n",
    "\n",
    "print classification_report(y_test, preds)"
   ]
  },
  {
   "cell_type": "markdown",
   "metadata": {},
   "source": [
    "## RANDOM FOREST - REDUCAO DE DIMENSAO COM RANDOM PROJECTIONS"
   ]
  },
  {
   "cell_type": "code",
   "execution_count": 82,
   "metadata": {},
   "outputs": [
    {
     "name": "stdout",
     "output_type": "stream",
     "text": [
      "BEFORE RANDOM PROJECTIONS\n",
      "(452792, 76)\n",
      "(194054, 76)\n",
      "AFTER RANDOM PROJECTIONS\n",
      "(452792, 10)\n",
      "(194054, 10)\n",
      "SCORE: 0.9255825698\n",
      "             precision    recall  f1-score   support\n",
      "\n",
      "          0       0.93      1.00      0.96    179994\n",
      "          1       0.13      0.00      0.01     14060\n",
      "\n",
      "avg / total       0.87      0.93      0.89    194054\n",
      "\n"
     ]
    },
    {
     "data": {
      "image/png": "[encoded data removed]",
      "text/plain": [
       "<matplotlib.figure.Figure at 0x10c4697d0>"
      ]
     },
     "metadata": {},
     "output_type": "display_data"
    }
   ],
   "source": [
    "from sklearn.random_projection import GaussianRandomProjection\n",
    "\n",
    "print 'BEFORE RANDOM PROJECTIONS'\n",
    "print X_train.shape\n",
    "print X_test.shape\n",
    "\n",
    "tf = GaussianRandomProjection(n_components=10)\n",
    "X_train = tf.fit_transform(X_train)\n",
    "X_test = tf.transform(X_test)\n",
    "\n",
    "print 'AFTER RANDOM PROJECTIONS'\n",
    "print X_train.shape\n",
    "print X_test.shape\n",
    "\n",
    "clf = RandomForestClassifier(n_estimators=10, max_depth=None, min_samples_split=5)\n",
    "clf.fit(X_train, y_train)\n",
    "print 'SCORE: {}'.format(clf.score(X_test, y_test))\n",
    "\n",
    "preds = clf.predict(X_test)\n",
    "cfm = confusion_matrix(y_test, preds)\n",
    "sns.heatmap(cfm , annot=True, cbar=False, fmt='g', cmap='Blues')\n",
    "plt.title('RANDOM FOREST - MATRIX DE CONFUSAO')\n",
    "\n",
    "print classification_report(y_test, preds)"
   ]
  },
  {
   "cell_type": "markdown",
   "metadata": {},
   "source": [
    "## REDE NEURAL - CURVA DE APRENDIZADO\n",
    "\n",
    "Utilizando STRATIFIED K FOLD CROSS VALIDATION"
   ]
  },
  {
   "cell_type": "code",
   "execution_count": null,
   "metadata": {
    "collapsed": true
   },
   "outputs": [],
   "source": [
    "from sklearn.model_selection import learning_curve\n",
    "train_sizes, train_scores, test_scores = learning_curve(estimator=clf, X=X_train, y=y_train, \n",
    "                                                        train_sizes=np.linspace(0.1, 1.0, 10), cv=10, n_jobs=-1)\n",
    "train_mean = np.mean(train_scores, axis=1)\n",
    "train_std = np.std(train_scores, axis=1)\n",
    "test_mean = np.mean(test_scores, axis=1)\n",
    "test_std = np.std(test_scores, axis=1)\n",
    "\n",
    "plt.plot(train_sizes, train_mean, color='blue', marker='o', markersize=5, label='training accuracy')\n",
    "plt.fill_between(train_sizes, train_mean + train_std, train_mean - train_std, alpha=0.15, color='blue')\n",
    "plt.plot(train_sizes, test_mean, color='green', linestyle='--', marker='s', markersize=5, label='validation accuracy')\n",
    "plt.fill_between(train_sizes, test_mean + test_std, test_mean - test_std, alpha=0.15, color='green')\n",
    "plt.xlabel('Number of training samples')\n",
    "plt.ylabel('Accuracy')\n",
    "plt.legend(loc='lower right')\n",
    "plt.ylim([0.8, 1.0])\n",
    "plt.tight_layout()"
   ]
  },
  {
   "cell_type": "markdown",
   "metadata": {},
   "source": [
    "## REDE NEURAL - CURVA DE VALIDACAO\n",
    "\n",
    "Utilizando STRATIFIED K FOLD CROSS VALIDATION"
   ]
  },
  {
   "cell_type": "code",
   "execution_count": null,
   "metadata": {
    "collapsed": true
   },
   "outputs": [],
   "source": [
    "from sklearn.model_selection import validation_curve\n",
    "train_sizes, train_scores, test_scores = validation_curve(estimator=clf, X=X_train, y=y_train, \n",
    "                                                        train_sizes=np.linspace(0.1, 1.0, 10), cv=10, n_jobs=-1)\n",
    "\n",
    "param_range = [0.00001, 0.0001, 0.001, 0.01, 0.1, 1.0, 10.0, 100.0]\n",
    "train_scores, test_scores = validation_curve(\n",
    "                estimator=clf, \n",
    "                X=X_train, \n",
    "                y=y_train, \n",
    "                param_name='clf__alpha', \n",
    "                param_range=param_range,\n",
    "                cv=10)\n",
    "\n",
    "train_mean = np.mean(train_scores, axis=1)\n",
    "train_std = np.std(train_scores, axis=1)\n",
    "test_mean = np.mean(test_scores, axis=1)\n",
    "test_std = np.std(test_scores, axis=1)\n",
    "\n",
    "plt.plot(param_range, train_mean, color='blue', marker='o', markersize=5, label='training accuracy')\n",
    "plt.fill_between(param_range, train_mean + train_std, train_mean - train_std, alpha=0.15, color='blue')\n",
    "plt.plot(param_range, test_mean, color='green', linestyle='--', marker='s', markersize=5,  label='validation accuracy')\n",
    "plt.fill_between(param_range, test_mean + test_std, test_mean - test_std, alpha=0.15, color='green')\n",
    "plt.xscale('log')\n",
    "plt.legend(loc='lower right')\n",
    "plt.xlabel('Parameter Alpha')\n",
    "plt.ylabel('Accuracy')\n",
    "plt.ylim([0.8, 1.0])\n",
    "plt.tight_layout()"
   ]
  }
 ],
 "metadata": {
  "kernelspec": {
   "display_name": "Python 2",
   "language": "python",
   "name": "python2"
  },
  "language_info": {
   "codemirror_mode": {
    "name": "ipython",
    "version": 2
   },
   "file_extension": ".py",
   "mimetype": "text/x-python",
   "name": "python",
   "nbconvert_exporter": "python",
   "pygments_lexer": "ipython2",
   "version": "2.7.12"
  }
 },
 "nbformat": 4,
 "nbformat_minor": 2
}
